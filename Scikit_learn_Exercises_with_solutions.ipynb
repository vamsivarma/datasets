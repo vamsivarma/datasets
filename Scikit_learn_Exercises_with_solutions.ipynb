{
  "nbformat": 4,
  "nbformat_minor": 0,
  "metadata": {
    "colab": {
      "name": "Scikit-learn Exercises with solutions.ipynb",
      "provenance": [],
      "collapsed_sections": [],
      "authorship_tag": "ABX9TyO+rK+P3AUuyArqfxeb1SIj",
      "include_colab_link": true
    },
    "kernelspec": {
      "name": "python3",
      "display_name": "Python 3"
    }
  },
  "cells": [
    {
      "cell_type": "markdown",
      "metadata": {
        "id": "view-in-github",
        "colab_type": "text"
      },
      "source": [
        "<a href=\"https://colab.research.google.com/github/vamsivarma/datasets/blob/master/Scikit_learn_Exercises_with_solutions.ipynb\" target=\"_parent\"><img src=\"https://colab.research.google.com/assets/colab-badge.svg\" alt=\"Open In Colab\"/></a>"
      ]
    },
    {
      "cell_type": "markdown",
      "metadata": {
        "id": "b36xEEI9o6nb",
        "colab_type": "text"
      },
      "source": [
        "#### For the exercises we will use **Iris flower dataset**\n",
        "\n",
        "#### The data set consists of 50 samples from each of three species of Iris (Iris setosa, Iris virginica and Iris versicolor). Four features were measured from each sample: the length and the width of the sepals and petals, in centimeters. Based on the combination of these four features, Fisher developed a linear discriminant model to distinguish the species from each other."
      ]
    },
    {
      "cell_type": "markdown",
      "metadata": {
        "id": "HoEjyts24zTu",
        "colab_type": "text"
      },
      "source": [
        "#### Loading libraries"
      ]
    },
    {
      "cell_type": "code",
      "metadata": {
        "id": "x0hMshdz4yZs",
        "colab_type": "code",
        "colab": {}
      },
      "source": [
        "# Numpy for numerical analysis\n",
        "import numpy as np\n",
        "\n",
        "# Pandas for reading and exploring dataset\n",
        "import pandas as pd\n",
        "\n",
        "# Matplotlib for data visualization\n",
        "import matplotlib.pyplot as plt\n",
        "\n",
        "# For showing learning metrics  \n",
        "from sklearn import metrics\n",
        "\n",
        "# For all the metrics\n",
        "\n",
        "# MSE\n",
        "from sklearn.metrics import mean_squared_error\n",
        "\n",
        "# For accuracy score\n",
        "from sklearn.metrics import accuracy_score\n",
        "\n",
        "# For splitting input data in to train and test dataset\n",
        "from sklearn.model_selection import train_test_split\n",
        "\n",
        "# For importing methods related to preprocessinng\n",
        "from sklearn import preprocessing\n",
        "\n",
        "# Importing scikit-learn algorithms\n",
        "\n",
        "# Linear regression\n",
        "from sklearn.linear_model import LinearRegression\n",
        "\n",
        "# SVM\n",
        "\n",
        "# NB\n",
        "\n",
        "# PCA\n",
        "\n",
        "# KMEANS\n",
        "\n",
        "# Decision tree\n",
        "\n",
        "# Random forest\n",
        "\n",
        "# Gradient boosting\n",
        "\n",
        "# XGBoost\n",
        "\n",
        "# KNN\n",
        "from sklearn.neighbors import KNeighborsClassifier\n",
        "\n",
        "# Logistic regression\n",
        "from sklearn.linear_model import LogisticRegression"
      ],
      "execution_count": 0,
      "outputs": []
    },
    {
      "cell_type": "markdown",
      "metadata": {
        "id": "feTTmaiV45rQ",
        "colab_type": "text"
      },
      "source": [
        "#### Loading data"
      ]
    },
    {
      "cell_type": "code",
      "metadata": {
        "id": "P2DJTOFL4-IZ",
        "colab_type": "code",
        "colab": {}
      },
      "source": [
        "iris = pd.read_csv(\"https://raw.githubusercontent.com/vamsivarma/datasets/master/machine_learning/iris/iris_orig.csv\")"
      ],
      "execution_count": 0,
      "outputs": []
    },
    {
      "cell_type": "markdown",
      "metadata": {
        "id": "A6HQzgyYpU4q",
        "colab_type": "text"
      },
      "source": [
        "# Exercises"
      ]
    },
    {
      "cell_type": "markdown",
      "metadata": {
        "id": "kOF3yLAUpbDF",
        "colab_type": "text"
      },
      "source": [
        "**Exercise 1**: Write a Python program to split the iris dataset into its attributes (X) and labels (y). The X variable contains the first four columns (i.e. attributes) and y contains the labels of the dataset."
      ]
    },
    {
      "cell_type": "code",
      "metadata": {
        "id": "JEdPqDgqfro4",
        "colab_type": "code",
        "outputId": "c6830a48-e979-40dd-8b3d-429b1902b3e2",
        "colab": {
          "base_uri": "https://localhost:8080/",
          "height": 1000
        }
      },
      "source": [
        "# Exercise 1 solution\n",
        "# All rows except last column\n",
        "X = iris.iloc[:, :-1].values\n",
        "\n",
        "# Only 5th column\n",
        "y = iris.iloc[:, 4].values\n",
        "\n",
        "\n",
        "print(iris.shape)\n",
        "print(X.shape)\n",
        "print(y.shape)\n",
        "\n",
        "print(\"Attributes:\")\n",
        "print(X)\n",
        "print(\"\\nLabels:\")\n",
        "print(y)"
      ],
      "execution_count": 5,
      "outputs": [
        {
          "output_type": "stream",
          "text": [
            "(150, 5)\n",
            "(150, 4)\n",
            "(150,)\n",
            "Attributes:\n",
            "[[5.1 3.5 1.4 0.2]\n",
            " [4.9 3.  1.4 0.2]\n",
            " [4.7 3.2 1.3 0.2]\n",
            " [4.6 3.1 1.5 0.2]\n",
            " [5.  3.6 1.4 0.2]\n",
            " [5.4 3.9 1.7 0.4]\n",
            " [4.6 3.4 1.4 0.3]\n",
            " [5.  3.4 1.5 0.2]\n",
            " [4.4 2.9 1.4 0.2]\n",
            " [4.9 3.1 1.5 0.1]\n",
            " [5.4 3.7 1.5 0.2]\n",
            " [4.8 3.4 1.6 0.2]\n",
            " [4.8 3.  1.4 0.1]\n",
            " [4.3 3.  1.1 0.1]\n",
            " [5.8 4.  1.2 0.2]\n",
            " [5.7 4.4 1.5 0.4]\n",
            " [5.4 3.9 1.3 0.4]\n",
            " [5.1 3.5 1.4 0.3]\n",
            " [5.7 3.8 1.7 0.3]\n",
            " [5.1 3.8 1.5 0.3]\n",
            " [5.4 3.4 1.7 0.2]\n",
            " [5.1 3.7 1.5 0.4]\n",
            " [4.6 3.6 1.  0.2]\n",
            " [5.1 3.3 1.7 0.5]\n",
            " [4.8 3.4 1.9 0.2]\n",
            " [5.  3.  1.6 0.2]\n",
            " [5.  3.4 1.6 0.4]\n",
            " [5.2 3.5 1.5 0.2]\n",
            " [5.2 3.4 1.4 0.2]\n",
            " [4.7 3.2 1.6 0.2]\n",
            " [4.8 3.1 1.6 0.2]\n",
            " [5.4 3.4 1.5 0.4]\n",
            " [5.2 4.1 1.5 0.1]\n",
            " [5.5 4.2 1.4 0.2]\n",
            " [4.9 3.1 1.5 0.2]\n",
            " [5.  3.2 1.2 0.2]\n",
            " [5.5 3.5 1.3 0.2]\n",
            " [4.9 3.6 1.4 0.1]\n",
            " [4.4 3.  1.3 0.2]\n",
            " [5.1 3.4 1.5 0.2]\n",
            " [5.  3.5 1.3 0.3]\n",
            " [4.5 2.3 1.3 0.3]\n",
            " [4.4 3.2 1.3 0.2]\n",
            " [5.  3.5 1.6 0.6]\n",
            " [5.1 3.8 1.9 0.4]\n",
            " [4.8 3.  1.4 0.3]\n",
            " [5.1 3.8 1.6 0.2]\n",
            " [4.6 3.2 1.4 0.2]\n",
            " [5.3 3.7 1.5 0.2]\n",
            " [5.  3.3 1.4 0.2]\n",
            " [7.  3.2 4.7 1.4]\n",
            " [6.4 3.2 4.5 1.5]\n",
            " [6.9 3.1 4.9 1.5]\n",
            " [5.5 2.3 4.  1.3]\n",
            " [6.5 2.8 4.6 1.5]\n",
            " [5.7 2.8 4.5 1.3]\n",
            " [6.3 3.3 4.7 1.6]\n",
            " [4.9 2.4 3.3 1. ]\n",
            " [6.6 2.9 4.6 1.3]\n",
            " [5.2 2.7 3.9 1.4]\n",
            " [5.  2.  3.5 1. ]\n",
            " [5.9 3.  4.2 1.5]\n",
            " [6.  2.2 4.  1. ]\n",
            " [6.1 2.9 4.7 1.4]\n",
            " [5.6 2.9 3.6 1.3]\n",
            " [6.7 3.1 4.4 1.4]\n",
            " [5.6 3.  4.5 1.5]\n",
            " [5.8 2.7 4.1 1. ]\n",
            " [6.2 2.2 4.5 1.5]\n",
            " [5.6 2.5 3.9 1.1]\n",
            " [5.9 3.2 4.8 1.8]\n",
            " [6.1 2.8 4.  1.3]\n",
            " [6.3 2.5 4.9 1.5]\n",
            " [6.1 2.8 4.7 1.2]\n",
            " [6.4 2.9 4.3 1.3]\n",
            " [6.6 3.  4.4 1.4]\n",
            " [6.8 2.8 4.8 1.4]\n",
            " [6.7 3.  5.  1.7]\n",
            " [6.  2.9 4.5 1.5]\n",
            " [5.7 2.6 3.5 1. ]\n",
            " [5.5 2.4 3.8 1.1]\n",
            " [5.5 2.4 3.7 1. ]\n",
            " [5.8 2.7 3.9 1.2]\n",
            " [6.  2.7 5.1 1.6]\n",
            " [5.4 3.  4.5 1.5]\n",
            " [6.  3.4 4.5 1.6]\n",
            " [6.7 3.1 4.7 1.5]\n",
            " [6.3 2.3 4.4 1.3]\n",
            " [5.6 3.  4.1 1.3]\n",
            " [5.5 2.5 4.  1.3]\n",
            " [5.5 2.6 4.4 1.2]\n",
            " [6.1 3.  4.6 1.4]\n",
            " [5.8 2.6 4.  1.2]\n",
            " [5.  2.3 3.3 1. ]\n",
            " [5.6 2.7 4.2 1.3]\n",
            " [5.7 3.  4.2 1.2]\n",
            " [5.7 2.9 4.2 1.3]\n",
            " [6.2 2.9 4.3 1.3]\n",
            " [5.1 2.5 3.  1.1]\n",
            " [5.7 2.8 4.1 1.3]\n",
            " [6.3 3.3 6.  2.5]\n",
            " [5.8 2.7 5.1 1.9]\n",
            " [7.1 3.  5.9 2.1]\n",
            " [6.3 2.9 5.6 1.8]\n",
            " [6.5 3.  5.8 2.2]\n",
            " [7.6 3.  6.6 2.1]\n",
            " [4.9 2.5 4.5 1.7]\n",
            " [7.3 2.9 6.3 1.8]\n",
            " [6.7 2.5 5.8 1.8]\n",
            " [7.2 3.6 6.1 2.5]\n",
            " [6.5 3.2 5.1 2. ]\n",
            " [6.4 2.7 5.3 1.9]\n",
            " [6.8 3.  5.5 2.1]\n",
            " [5.7 2.5 5.  2. ]\n",
            " [5.8 2.8 5.1 2.4]\n",
            " [6.4 3.2 5.3 2.3]\n",
            " [6.5 3.  5.5 1.8]\n",
            " [7.7 3.8 6.7 2.2]\n",
            " [7.7 2.6 6.9 2.3]\n",
            " [6.  2.2 5.  1.5]\n",
            " [6.9 3.2 5.7 2.3]\n",
            " [5.6 2.8 4.9 2. ]\n",
            " [7.7 2.8 6.7 2. ]\n",
            " [6.3 2.7 4.9 1.8]\n",
            " [6.7 3.3 5.7 2.1]\n",
            " [7.2 3.2 6.  1.8]\n",
            " [6.2 2.8 4.8 1.8]\n",
            " [6.1 3.  4.9 1.8]\n",
            " [6.4 2.8 5.6 2.1]\n",
            " [7.2 3.  5.8 1.6]\n",
            " [7.4 2.8 6.1 1.9]\n",
            " [7.9 3.8 6.4 2. ]\n",
            " [6.4 2.8 5.6 2.2]\n",
            " [6.3 2.8 5.1 1.5]\n",
            " [6.1 2.6 5.6 1.4]\n",
            " [7.7 3.  6.1 2.3]\n",
            " [6.3 3.4 5.6 2.4]\n",
            " [6.4 3.1 5.5 1.8]\n",
            " [6.  3.  4.8 1.8]\n",
            " [6.9 3.1 5.4 2.1]\n",
            " [6.7 3.1 5.6 2.4]\n",
            " [6.9 3.1 5.1 2.3]\n",
            " [5.8 2.7 5.1 1.9]\n",
            " [6.8 3.2 5.9 2.3]\n",
            " [6.7 3.3 5.7 2.5]\n",
            " [6.7 3.  5.2 2.3]\n",
            " [6.3 2.5 5.  1.9]\n",
            " [6.5 3.  5.2 2. ]\n",
            " [6.2 3.4 5.4 2.3]\n",
            " [5.9 3.  5.1 1.8]]\n",
            "\n",
            "Labels:\n",
            "['setosa' 'setosa' 'setosa' 'setosa' 'setosa' 'setosa' 'setosa' 'setosa'\n",
            " 'setosa' 'setosa' 'setosa' 'setosa' 'setosa' 'setosa' 'setosa' 'setosa'\n",
            " 'setosa' 'setosa' 'setosa' 'setosa' 'setosa' 'setosa' 'setosa' 'setosa'\n",
            " 'setosa' 'setosa' 'setosa' 'setosa' 'setosa' 'setosa' 'setosa' 'setosa'\n",
            " 'setosa' 'setosa' 'setosa' 'setosa' 'setosa' 'setosa' 'setosa' 'setosa'\n",
            " 'setosa' 'setosa' 'setosa' 'setosa' 'setosa' 'setosa' 'setosa' 'setosa'\n",
            " 'setosa' 'setosa' 'versicolor' 'versicolor' 'versicolor' 'versicolor'\n",
            " 'versicolor' 'versicolor' 'versicolor' 'versicolor' 'versicolor'\n",
            " 'versicolor' 'versicolor' 'versicolor' 'versicolor' 'versicolor'\n",
            " 'versicolor' 'versicolor' 'versicolor' 'versicolor' 'versicolor'\n",
            " 'versicolor' 'versicolor' 'versicolor' 'versicolor' 'versicolor'\n",
            " 'versicolor' 'versicolor' 'versicolor' 'versicolor' 'versicolor'\n",
            " 'versicolor' 'versicolor' 'versicolor' 'versicolor' 'versicolor'\n",
            " 'versicolor' 'versicolor' 'versicolor' 'versicolor' 'versicolor'\n",
            " 'versicolor' 'versicolor' 'versicolor' 'versicolor' 'versicolor'\n",
            " 'versicolor' 'versicolor' 'versicolor' 'versicolor' 'versicolor'\n",
            " 'versicolor' 'virginica' 'virginica' 'virginica' 'virginica' 'virginica'\n",
            " 'virginica' 'virginica' 'virginica' 'virginica' 'virginica' 'virginica'\n",
            " 'virginica' 'virginica' 'virginica' 'virginica' 'virginica' 'virginica'\n",
            " 'virginica' 'virginica' 'virginica' 'virginica' 'virginica' 'virginica'\n",
            " 'virginica' 'virginica' 'virginica' 'virginica' 'virginica' 'virginica'\n",
            " 'virginica' 'virginica' 'virginica' 'virginica' 'virginica' 'virginica'\n",
            " 'virginica' 'virginica' 'virginica' 'virginica' 'virginica' 'virginica'\n",
            " 'virginica' 'virginica' 'virginica' 'virginica' 'virginica' 'virginica'\n",
            " 'virginica' 'virginica' 'virginica']\n"
          ],
          "name": "stdout"
        }
      ]
    },
    {
      "cell_type": "markdown",
      "metadata": {
        "id": "aUrDXLRPsxJF",
        "colab_type": "text"
      },
      "source": [
        "**Exercise 2**: Write a Python program using Scikit-learn to split the iris dataset into 70% train data and 30% test data. Out of total 150 records, the training set will contain 120 records and the test set contains 30 of those records. Print both datasets."
      ]
    },
    {
      "cell_type": "code",
      "metadata": {
        "id": "zX0j8gqms4Gk",
        "colab_type": "code",
        "outputId": "dd4d0b76-a7ab-4099-dfa0-1b8777d582e1",
        "colab": {
          "base_uri": "https://localhost:8080/",
          "height": 1000
        }
      },
      "source": [
        "\n",
        "# Exercise 2 solution\n",
        "X = iris.iloc[:, :-1].values\n",
        "y = iris.iloc[:, 4].values\n",
        "#Split arrays or matrices into random train and test subsets\n",
        "X_train, X_test, y_train, y_test = train_test_split(X, y, test_size=0.30)\n",
        "print(\"\\n70% train data:\")\n",
        "print(X_train)\n",
        "print(y_train)\n",
        "print(\"\\n30% test data:\")\n",
        "print(X_test)\n",
        "print(y_test)"
      ],
      "execution_count": 6,
      "outputs": [
        {
          "output_type": "stream",
          "text": [
            "\n",
            "70% train data:\n",
            "[[5.4 3.4 1.7 0.2]\n",
            " [7.6 3.  6.6 2.1]\n",
            " [6.1 3.  4.6 1.4]\n",
            " [6.7 3.1 5.6 2.4]\n",
            " [6.9 3.1 5.1 2.3]\n",
            " [6.1 3.  4.9 1.8]\n",
            " [4.9 3.1 1.5 0.1]\n",
            " [5.6 2.7 4.2 1.3]\n",
            " [5.  2.  3.5 1. ]\n",
            " [5.1 3.3 1.7 0.5]\n",
            " [5.5 4.2 1.4 0.2]\n",
            " [5.  3.3 1.4 0.2]\n",
            " [6.  3.4 4.5 1.6]\n",
            " [6.4 2.8 5.6 2.2]\n",
            " [5.8 2.7 5.1 1.9]\n",
            " [5.  3.2 1.2 0.2]\n",
            " [5.9 3.  5.1 1.8]\n",
            " [5.2 3.5 1.5 0.2]\n",
            " [5.  3.  1.6 0.2]\n",
            " [5.7 3.  4.2 1.2]\n",
            " [6.2 2.9 4.3 1.3]\n",
            " [6.3 3.3 6.  2.5]\n",
            " [6.5 3.  5.2 2. ]\n",
            " [5.5 2.6 4.4 1.2]\n",
            " [7.  3.2 4.7 1.4]\n",
            " [4.4 2.9 1.4 0.2]\n",
            " [5.5 2.3 4.  1.3]\n",
            " [5.5 2.5 4.  1.3]\n",
            " [4.9 3.1 1.5 0.2]\n",
            " [7.2 3.6 6.1 2.5]\n",
            " [7.7 2.6 6.9 2.3]\n",
            " [6.5 3.  5.8 2.2]\n",
            " [6.3 2.5 4.9 1.5]\n",
            " [4.6 3.4 1.4 0.3]\n",
            " [6.7 3.3 5.7 2.1]\n",
            " [5.4 3.9 1.7 0.4]\n",
            " [5.7 2.9 4.2 1.3]\n",
            " [5.5 2.4 3.8 1.1]\n",
            " [5.1 3.8 1.9 0.4]\n",
            " [6.3 3.3 4.7 1.6]\n",
            " [6.3 2.8 5.1 1.5]\n",
            " [7.9 3.8 6.4 2. ]\n",
            " [6.1 2.8 4.7 1.2]\n",
            " [6.4 2.7 5.3 1.9]\n",
            " [5.1 3.5 1.4 0.3]\n",
            " [6.  2.9 4.5 1.5]\n",
            " [5.2 3.4 1.4 0.2]\n",
            " [5.  3.5 1.3 0.3]\n",
            " [5.6 3.  4.5 1.5]\n",
            " [5.  3.6 1.4 0.2]\n",
            " [4.6 3.1 1.5 0.2]\n",
            " [5.1 3.5 1.4 0.2]\n",
            " [5.4 3.9 1.3 0.4]\n",
            " [5.6 2.9 3.6 1.3]\n",
            " [6.1 2.6 5.6 1.4]\n",
            " [5.1 3.7 1.5 0.4]\n",
            " [6.4 3.1 5.5 1.8]\n",
            " [5.7 3.8 1.7 0.3]\n",
            " [5.2 2.7 3.9 1.4]\n",
            " [6.3 2.5 5.  1.9]\n",
            " [5.8 2.7 3.9 1.2]\n",
            " [5.1 3.4 1.5 0.2]\n",
            " [6.8 3.2 5.9 2.3]\n",
            " [7.2 3.  5.8 1.6]\n",
            " [7.1 3.  5.9 2.1]\n",
            " [6.8 2.8 4.8 1.4]\n",
            " [6.4 2.8 5.6 2.1]\n",
            " [7.3 2.9 6.3 1.8]\n",
            " [5.4 3.  4.5 1.5]\n",
            " [7.4 2.8 6.1 1.9]\n",
            " [6.3 2.7 4.9 1.8]\n",
            " [5.2 4.1 1.5 0.1]\n",
            " [6.7 3.  5.2 2.3]\n",
            " [7.7 2.8 6.7 2. ]\n",
            " [5.6 2.8 4.9 2. ]\n",
            " [4.9 3.  1.4 0.2]\n",
            " [6.  3.  4.8 1.8]\n",
            " [6.  2.7 5.1 1.6]\n",
            " [6.2 3.4 5.4 2.3]\n",
            " [5.5 3.5 1.3 0.2]\n",
            " [5.  3.4 1.6 0.4]\n",
            " [6.6 3.  4.4 1.4]\n",
            " [6.4 2.9 4.3 1.3]\n",
            " [6.4 3.2 4.5 1.5]\n",
            " [6.8 3.  5.5 2.1]\n",
            " [5.8 4.  1.2 0.2]\n",
            " [6.7 3.1 4.7 1.5]\n",
            " [6.4 3.2 5.3 2.3]\n",
            " [5.1 3.8 1.5 0.3]\n",
            " [4.8 3.1 1.6 0.2]\n",
            " [6.6 2.9 4.6 1.3]\n",
            " [5.1 3.8 1.6 0.2]\n",
            " [6.3 2.9 5.6 1.8]\n",
            " [6.  2.2 4.  1. ]\n",
            " [5.  3.4 1.5 0.2]\n",
            " [5.1 2.5 3.  1.1]\n",
            " [4.4 3.  1.3 0.2]\n",
            " [4.8 3.  1.4 0.3]\n",
            " [5.4 3.4 1.5 0.4]\n",
            " [5.  3.5 1.6 0.6]\n",
            " [4.7 3.2 1.6 0.2]\n",
            " [6.7 3.3 5.7 2.5]\n",
            " [4.5 2.3 1.3 0.3]\n",
            " [4.6 3.2 1.4 0.2]\n",
            " [5.6 3.  4.1 1.3]]\n",
            "['setosa' 'virginica' 'versicolor' 'virginica' 'virginica' 'virginica'\n",
            " 'setosa' 'versicolor' 'versicolor' 'setosa' 'setosa' 'setosa'\n",
            " 'versicolor' 'virginica' 'virginica' 'setosa' 'virginica' 'setosa'\n",
            " 'setosa' 'versicolor' 'versicolor' 'virginica' 'virginica' 'versicolor'\n",
            " 'versicolor' 'setosa' 'versicolor' 'versicolor' 'setosa' 'virginica'\n",
            " 'virginica' 'virginica' 'versicolor' 'setosa' 'virginica' 'setosa'\n",
            " 'versicolor' 'versicolor' 'setosa' 'versicolor' 'virginica' 'virginica'\n",
            " 'versicolor' 'virginica' 'setosa' 'versicolor' 'setosa' 'setosa'\n",
            " 'versicolor' 'setosa' 'setosa' 'setosa' 'setosa' 'versicolor' 'virginica'\n",
            " 'setosa' 'virginica' 'setosa' 'versicolor' 'virginica' 'versicolor'\n",
            " 'setosa' 'virginica' 'virginica' 'virginica' 'versicolor' 'virginica'\n",
            " 'virginica' 'versicolor' 'virginica' 'virginica' 'setosa' 'virginica'\n",
            " 'virginica' 'virginica' 'setosa' 'virginica' 'versicolor' 'virginica'\n",
            " 'setosa' 'setosa' 'versicolor' 'versicolor' 'versicolor' 'virginica'\n",
            " 'setosa' 'versicolor' 'virginica' 'setosa' 'setosa' 'versicolor' 'setosa'\n",
            " 'virginica' 'versicolor' 'setosa' 'versicolor' 'setosa' 'setosa' 'setosa'\n",
            " 'setosa' 'setosa' 'virginica' 'setosa' 'setosa' 'versicolor']\n",
            "\n",
            "30% test data:\n",
            "[[6.3 3.4 5.6 2.4]\n",
            " [5.8 2.8 5.1 2.4]\n",
            " [6.2 2.8 4.8 1.8]\n",
            " [5.7 2.8 4.1 1.3]\n",
            " [5.7 2.8 4.5 1.3]\n",
            " [5.7 4.4 1.5 0.4]\n",
            " [5.8 2.6 4.  1.2]\n",
            " [6.9 3.1 4.9 1.5]\n",
            " [6.5 3.2 5.1 2. ]\n",
            " [6.1 2.9 4.7 1.4]\n",
            " [6.5 2.8 4.6 1.5]\n",
            " [6.7 3.1 4.4 1.4]\n",
            " [6.9 3.2 5.7 2.3]\n",
            " [4.3 3.  1.1 0.1]\n",
            " [6.2 2.2 4.5 1.5]\n",
            " [4.8 3.  1.4 0.1]\n",
            " [6.7 2.5 5.8 1.8]\n",
            " [4.4 3.2 1.3 0.2]\n",
            " [5.7 2.6 3.5 1. ]\n",
            " [5.  2.3 3.3 1. ]\n",
            " [7.7 3.  6.1 2.3]\n",
            " [6.7 3.  5.  1.7]\n",
            " [6.3 2.3 4.4 1.3]\n",
            " [7.7 3.8 6.7 2.2]\n",
            " [6.5 3.  5.5 1.8]\n",
            " [4.8 3.4 1.6 0.2]\n",
            " [6.  2.2 5.  1.5]\n",
            " [4.9 2.4 3.3 1. ]\n",
            " [5.4 3.7 1.5 0.2]\n",
            " [4.7 3.2 1.3 0.2]\n",
            " [5.7 2.5 5.  2. ]\n",
            " [6.1 2.8 4.  1.3]\n",
            " [4.6 3.6 1.  0.2]\n",
            " [5.8 2.7 4.1 1. ]\n",
            " [4.8 3.4 1.9 0.2]\n",
            " [6.9 3.1 5.4 2.1]\n",
            " [5.8 2.7 5.1 1.9]\n",
            " [5.3 3.7 1.5 0.2]\n",
            " [5.9 3.  4.2 1.5]\n",
            " [4.9 3.6 1.4 0.1]\n",
            " [5.9 3.2 4.8 1.8]\n",
            " [4.9 2.5 4.5 1.7]\n",
            " [7.2 3.2 6.  1.8]\n",
            " [5.5 2.4 3.7 1. ]\n",
            " [5.6 2.5 3.9 1.1]]\n",
            "['virginica' 'virginica' 'virginica' 'versicolor' 'versicolor' 'setosa'\n",
            " 'versicolor' 'versicolor' 'virginica' 'versicolor' 'versicolor'\n",
            " 'versicolor' 'virginica' 'setosa' 'versicolor' 'setosa' 'virginica'\n",
            " 'setosa' 'versicolor' 'versicolor' 'virginica' 'versicolor' 'versicolor'\n",
            " 'virginica' 'virginica' 'setosa' 'virginica' 'versicolor' 'setosa'\n",
            " 'setosa' 'virginica' 'versicolor' 'setosa' 'versicolor' 'setosa'\n",
            " 'virginica' 'virginica' 'setosa' 'versicolor' 'setosa' 'versicolor'\n",
            " 'virginica' 'virginica' 'versicolor' 'versicolor']\n"
          ],
          "name": "stdout"
        }
      ]
    },
    {
      "cell_type": "markdown",
      "metadata": {
        "id": "9FSz4PLn34xR",
        "colab_type": "text"
      },
      "source": [
        "**Exercise 3**: Write a Python program using Scikit-learn to convert Species columns in a numerical column of the iris dataframe. To encode this data map convert each value to a number. e.g. Iris-setosa:0, Iris-versicolor:1, and Iris-virginica:2. Now print the iris dataset into 80% train data and 20% test data. Out of total 150 records, the training set will contain 120 records and the test set contains 30 of those records. Print both datasets."
      ]
    },
    {
      "cell_type": "code",
      "metadata": {
        "id": "PK-1L2xY35EM",
        "colab_type": "code",
        "outputId": "5f2d4c80-6a64-4a1a-9251-4f29c0577c8a",
        "colab": {
          "base_uri": "https://localhost:8080/",
          "height": 1000
        }
      },
      "source": [
        "# Exercise 3 solution\n",
        "\n",
        "# Printing the colums of the dataset to find out column to be tranformed\n",
        "print(iris.columns)\n",
        " \n",
        "# Creating labelEncoder from preprocessing module \n",
        "le = preprocessing.LabelEncoder()\n",
        "# Converting string labels into numbers.\n",
        "iris.species = le.fit_transform(iris.species)\n",
        "\n",
        "X = iris.iloc[:, :-1].values\n",
        "y = iris.iloc[:, 4].values\n",
        "\n",
        "#Split arrays or matrices into random train and test subsets\n",
        "X_train, X_test, y_train, y_test = train_test_split(X, y, test_size=0.20)\n",
        "\n",
        "print(\"\\n 80% train data:\")\n",
        "print(X_train)\n",
        "print(y_train)\n",
        "\n",
        "print(\"\\n 20% test data:\")\n",
        "print(X_test)\n",
        "print(y_test)\n"
      ],
      "execution_count": 0,
      "outputs": [
        {
          "output_type": "stream",
          "text": [
            "Index(['sepal_length', 'sepal_width', 'petal_length', 'petal_width',\n",
            "       'species'],\n",
            "      dtype='object')\n",
            "\n",
            "80% train data:\n",
            "[[6.7 2.5 5.8 1.8]\n",
            " [6.3 3.3 6.  2.5]\n",
            " [6.4 2.7 5.3 1.9]\n",
            " [5.1 3.4 1.5 0.2]\n",
            " [5.8 4.  1.2 0.2]\n",
            " [5.1 3.8 1.6 0.2]\n",
            " [5.7 2.6 3.5 1. ]\n",
            " [6.7 3.  5.  1.7]\n",
            " [7.1 3.  5.9 2.1]\n",
            " [5.  3.4 1.6 0.4]\n",
            " [4.9 3.1 1.5 0.1]\n",
            " [5.9 3.  4.2 1.5]\n",
            " [4.7 3.2 1.3 0.2]\n",
            " [5.  3.5 1.6 0.6]\n",
            " [5.1 3.7 1.5 0.4]\n",
            " [5.7 4.4 1.5 0.4]\n",
            " [6.5 3.  5.2 2. ]\n",
            " [6.6 2.9 4.6 1.3]\n",
            " [5.9 3.2 4.8 1.8]\n",
            " [6.3 2.8 5.1 1.5]\n",
            " [5.6 2.9 3.6 1.3]\n",
            " [7.7 3.8 6.7 2.2]\n",
            " [4.4 2.9 1.4 0.2]\n",
            " [7.7 3.  6.1 2.3]\n",
            " [6.3 3.3 4.7 1.6]\n",
            " [4.8 3.1 1.6 0.2]\n",
            " [5.  3.4 1.5 0.2]\n",
            " [7.4 2.8 6.1 1.9]\n",
            " [5.2 2.7 3.9 1.4]\n",
            " [5.8 2.7 5.1 1.9]\n",
            " [6.3 2.5 5.  1.9]\n",
            " [7.2 3.  5.8 1.6]\n",
            " [5.  2.3 3.3 1. ]\n",
            " [6.  3.4 4.5 1.6]\n",
            " [5.4 3.  4.5 1.5]\n",
            " [5.5 2.4 3.8 1.1]\n",
            " [6.1 2.8 4.7 1.2]\n",
            " [6.2 3.4 5.4 2.3]\n",
            " [4.5 2.3 1.3 0.3]\n",
            " [6.2 2.8 4.8 1.8]\n",
            " [5.7 2.5 5.  2. ]\n",
            " [6.  2.9 4.5 1.5]\n",
            " [4.6 3.4 1.4 0.3]\n",
            " [6.7 3.3 5.7 2.5]\n",
            " [6.8 2.8 4.8 1.4]\n",
            " [5.7 2.8 4.5 1.3]\n",
            " [5.5 2.5 4.  1.3]\n",
            " [6.7 3.  5.2 2.3]\n",
            " [5.8 2.6 4.  1.2]\n",
            " [7.2 3.2 6.  1.8]\n",
            " [5.1 3.3 1.7 0.5]\n",
            " [4.9 3.  1.4 0.2]\n",
            " [5.6 3.  4.5 1.5]\n",
            " [5.8 2.7 4.1 1. ]\n",
            " [5.6 2.7 4.2 1.3]\n",
            " [6.7 3.1 5.6 2.4]\n",
            " [6.4 3.1 5.5 1.8]\n",
            " [4.8 3.4 1.9 0.2]\n",
            " [5.2 3.5 1.5 0.2]\n",
            " [4.6 3.6 1.  0.2]\n",
            " [5.9 3.  5.1 1.8]\n",
            " [6.1 2.8 4.  1.3]\n",
            " [5.  3.2 1.2 0.2]\n",
            " [5.8 2.7 3.9 1.2]\n",
            " [6.5 2.8 4.6 1.5]\n",
            " [6.3 3.4 5.6 2.4]\n",
            " [6.3 2.7 4.9 1.8]\n",
            " [6.2 2.9 4.3 1.3]\n",
            " [4.9 3.1 1.5 0.2]\n",
            " [7.7 2.8 6.7 2. ]\n",
            " [6.4 2.8 5.6 2.1]\n",
            " [4.9 2.4 3.3 1. ]\n",
            " [5.1 3.5 1.4 0.2]\n",
            " [6.9 3.1 4.9 1.5]\n",
            " [6.7 3.1 4.7 1.5]\n",
            " [6.2 2.2 4.5 1.5]\n",
            " [5.  3.6 1.4 0.2]\n",
            " [5.  2.  3.5 1. ]\n",
            " [5.6 3.  4.1 1.3]\n",
            " [6.3 2.9 5.6 1.8]\n",
            " [4.8 3.  1.4 0.1]\n",
            " [4.8 3.  1.4 0.3]\n",
            " [5.1 3.5 1.4 0.3]\n",
            " [6.1 2.6 5.6 1.4]\n",
            " [6.9 3.2 5.7 2.3]\n",
            " [5.7 3.  4.2 1.2]\n",
            " [6.5 3.  5.5 1.8]\n",
            " [5.2 4.1 1.5 0.1]\n",
            " [4.7 3.2 1.6 0.2]\n",
            " [6.1 2.9 4.7 1.4]\n",
            " [5.1 3.8 1.5 0.3]\n",
            " [4.9 3.6 1.4 0.1]\n",
            " [6.  2.2 5.  1.5]\n",
            " [6.  2.2 4.  1. ]\n",
            " [6.7 3.3 5.7 2.1]\n",
            " [6.4 2.9 4.3 1.3]\n",
            " [5.5 3.5 1.3 0.2]\n",
            " [6.1 3.  4.9 1.8]\n",
            " [4.9 2.5 4.5 1.7]\n",
            " [5.5 4.2 1.4 0.2]\n",
            " [6.  3.  4.8 1.8]\n",
            " [7.7 2.6 6.9 2.3]\n",
            " [6.9 3.1 5.1 2.3]\n",
            " [4.6 3.1 1.5 0.2]\n",
            " [6.  2.7 5.1 1.6]\n",
            " [5.8 2.8 5.1 2.4]\n",
            " [6.6 3.  4.4 1.4]\n",
            " [6.7 3.1 4.4 1.4]\n",
            " [4.4 3.2 1.3 0.2]\n",
            " [6.8 3.2 5.9 2.3]\n",
            " [5.  3.3 1.4 0.2]\n",
            " [7.2 3.6 6.1 2.5]\n",
            " [6.3 2.5 4.9 1.5]\n",
            " [6.5 3.2 5.1 2. ]\n",
            " [7.9 3.8 6.4 2. ]\n",
            " [5.4 3.4 1.7 0.2]\n",
            " [5.7 2.9 4.2 1.3]\n",
            " [4.4 3.  1.3 0.2]\n",
            " [5.4 3.7 1.5 0.2]\n",
            " [7.3 2.9 6.3 1.8]]\n",
            "[2 2 2 0 0 0 1 1 2 0 0 1 0 0 0 0 2 1 1 2 1 2 0 2 1 0 0 2 1 2 2 2 1 1 1 1 1\n",
            " 2 0 2 2 1 0 2 1 1 1 2 1 2 0 0 1 1 1 2 2 0 0 0 2 1 0 1 1 2 2 1 0 2 2 1 0 1\n",
            " 1 1 0 1 1 2 0 0 0 2 2 1 2 0 0 1 0 0 2 1 2 1 0 2 2 0 2 2 2 0 1 2 1 1 0 2 0\n",
            " 2 1 2 2 0 1 0 0 2]\n",
            "\n",
            "20% test data:\n",
            "[[6.9 3.1 5.4 2.1]\n",
            " [6.4 3.2 4.5 1.5]\n",
            " [5.2 3.4 1.4 0.2]\n",
            " [7.6 3.  6.6 2.1]\n",
            " [5.5 2.3 4.  1.3]\n",
            " [5.  3.5 1.3 0.3]\n",
            " [5.8 2.7 5.1 1.9]\n",
            " [6.8 3.  5.5 2.1]\n",
            " [5.  3.  1.6 0.2]\n",
            " [5.7 2.8 4.1 1.3]\n",
            " [5.5 2.6 4.4 1.2]\n",
            " [7.  3.2 4.7 1.4]\n",
            " [5.3 3.7 1.5 0.2]\n",
            " [5.4 3.9 1.7 0.4]\n",
            " [5.4 3.4 1.5 0.4]\n",
            " [6.5 3.  5.8 2.2]\n",
            " [5.7 3.8 1.7 0.3]\n",
            " [4.6 3.2 1.4 0.2]\n",
            " [5.4 3.9 1.3 0.4]\n",
            " [4.3 3.  1.1 0.1]\n",
            " [4.8 3.4 1.6 0.2]\n",
            " [6.4 3.2 5.3 2.3]\n",
            " [6.3 2.3 4.4 1.3]\n",
            " [5.1 2.5 3.  1.1]\n",
            " [6.1 3.  4.6 1.4]\n",
            " [5.1 3.8 1.9 0.4]\n",
            " [5.5 2.4 3.7 1. ]\n",
            " [5.6 2.5 3.9 1.1]\n",
            " [5.6 2.8 4.9 2. ]\n",
            " [6.4 2.8 5.6 2.2]]\n",
            "[2 1 0 2 1 0 2 2 0 1 1 1 0 0 0 2 0 0 0 0 0 2 1 1 1 0 1 1 2 2]\n"
          ],
          "name": "stdout"
        }
      ]
    },
    {
      "cell_type": "markdown",
      "metadata": {
        "id": "GLAk4pkX6TAd",
        "colab_type": "text"
      },
      "source": [
        "###### **Exercise 4**: Write a Python program using Scikit-learn to split the iris dataset into 70% train data and 30% test data. Out of total 150 records, the training set will contain 105 records and the test set contains 45 of those records. Predict the response for test dataset (SepalLengthCm, SepalWidthCm, PetalLengthCm, PetalWidthCm) using the K Nearest Neighbor Algorithm. Use 5 as number of neighbors."
      ]
    },
    {
      "cell_type": "code",
      "metadata": {
        "id": "BTVyIp-I6YI-",
        "colab_type": "code",
        "outputId": "54212395-6a21-42e4-ef7f-6e675c002347",
        "colab": {
          "base_uri": "https://localhost:8080/",
          "height": 170
        }
      },
      "source": [
        "# Exercise 4 solution\n",
        "\n",
        "X = iris.iloc[:, :-1].values\n",
        "y = iris.iloc[:, 4].values\n",
        "\n",
        "#Split arrays or matrices into random train and test subsets\n",
        "X_train, X_test, y_train, y_test = train_test_split(X, y, test_size=0.30)\n",
        "\n",
        "#Create KNN Classifier\n",
        "#Number of neighbors to use by default for kneighbors queries.\n",
        "knn = KNeighborsClassifier(n_neighbors=5)\n",
        "\n",
        "#Train the model using the training sets\n",
        "knn.fit(X_train, y_train)\n",
        "\n",
        "#Predict the response for test dataset\n",
        "print(\"Response for test dataset:\")\n",
        "y_pred = knn.predict(X_test)\n",
        "\n",
        "print(y_pred)\n"
      ],
      "execution_count": 0,
      "outputs": [
        {
          "output_type": "stream",
          "text": [
            "Response for test dataset:\n",
            "['versicolor' 'versicolor' 'setosa' 'virginica' 'setosa' 'virginica'\n",
            " 'virginica' 'setosa' 'setosa' 'versicolor' 'setosa' 'virginica' 'setosa'\n",
            " 'virginica' 'setosa' 'setosa' 'virginica' 'virginica' 'versicolor'\n",
            " 'setosa' 'virginica' 'versicolor' 'virginica' 'versicolor' 'virginica'\n",
            " 'virginica' 'versicolor' 'versicolor' 'setosa' 'setosa' 'virginica'\n",
            " 'versicolor' 'setosa' 'versicolor' 'virginica' 'virginica' 'versicolor'\n",
            " 'setosa' 'setosa' 'virginica' 'setosa' 'versicolor' 'virginica'\n",
            " 'versicolor' 'versicolor']\n"
          ],
          "name": "stdout"
        }
      ]
    },
    {
      "cell_type": "markdown",
      "metadata": {
        "id": "HxLwvY9d7oBl",
        "colab_type": "text"
      },
      "source": [
        "##### **Exercise 5**: Write a Python program using Scikit-learn to split the iris dataset into 80% train data and 20% test data. Out of total 150 records, the training set will contain 120 records and the test set contains 30 of those records. Train or fit the data into the model and calculate the accuracy of the model using the K Nearest Neighbor Algorithm."
      ]
    },
    {
      "cell_type": "code",
      "metadata": {
        "id": "EjeU0I917r0k",
        "colab_type": "code",
        "outputId": "25fa05a9-25bd-400e-e9a2-ec374bfee5fb",
        "colab": {
          "base_uri": "https://localhost:8080/",
          "height": 51
        }
      },
      "source": [
        "# Exercise 5 solution:\n",
        "X = iris.iloc[:, :-1].values\n",
        "y = iris.iloc[:, 4].values\n",
        "\n",
        "#Split arrays or matrices into train and test subsets\n",
        "X_train, X_test, y_train, y_test = train_test_split(X, y, test_size=0.30) \n",
        "knn = KNeighborsClassifier(n_neighbors=5)  \n",
        "knn.fit(X_train, y_train)   \n",
        "\n",
        "# Calculate the accuracy of the model \n",
        "print(\"Accuracy of the model:\")\n",
        "print(knn.score(X_test, y_test))\n"
      ],
      "execution_count": 0,
      "outputs": [
        {
          "output_type": "stream",
          "text": [
            "Accuracy of the model:\n",
            "0.9777777777777777\n"
          ],
          "name": "stdout"
        }
      ]
    },
    {
      "cell_type": "markdown",
      "metadata": {
        "id": "qpmizy-q8VIP",
        "colab_type": "text"
      },
      "source": [
        "**Exercise 6**: Write a Python program using Scikit-learn to split the iris dataset into 80% train data and 20% test data. Out of total 150 records, the training set will contain 120 records and the test set contains 30 of those records. Train or fit the data into the model and using the K Nearest Neighbor Algorithm calculate the performance for different values of k "
      ]
    },
    {
      "cell_type": "code",
      "metadata": {
        "id": "brPkYgNY8VZX",
        "colab_type": "code",
        "outputId": "501459f0-0596-484d-c19f-53017cb36d58",
        "colab": {
          "base_uri": "https://localhost:8080/",
          "height": 170
        }
      },
      "source": [
        "# Exercise 6 solution\n",
        "X = iris.iloc[:, :-1].values\n",
        "y = iris.iloc[:, 4].values\n",
        "\n",
        "#Split arrays or matrices into train and test subsets\n",
        "X_train, X_test, y_train, y_test = train_test_split(X, y, test_size=0.20) \n",
        "knn = KNeighborsClassifier(n_neighbors=7)  \n",
        "knn.fit(X_train, y_train) \n",
        "  \n",
        "# Calculate the accuracy of the model for different values of k\n",
        "for i in np.arange(1, 10):\n",
        "    knn2 = KNeighborsClassifier(n_neighbors=i)\n",
        "    knn2.fit(X_train, y_train)\n",
        "    print(\"For k = %d accuracy is\"%i,knn2.score(X_test,y_test))\n"
      ],
      "execution_count": 0,
      "outputs": [
        {
          "output_type": "stream",
          "text": [
            "For k = 1 accuracy is 0.9666666666666667\n",
            "For k = 2 accuracy is 0.9333333333333333\n",
            "For k = 3 accuracy is 0.9666666666666667\n",
            "For k = 4 accuracy is 0.9333333333333333\n",
            "For k = 5 accuracy is 0.9333333333333333\n",
            "For k = 6 accuracy is 0.9\n",
            "For k = 7 accuracy is 0.9333333333333333\n",
            "For k = 8 accuracy is 0.9\n",
            "For k = 9 accuracy is 0.9\n"
          ],
          "name": "stdout"
        }
      ]
    },
    {
      "cell_type": "markdown",
      "metadata": {
        "id": "SGhff_1N9cZy",
        "colab_type": "text"
      },
      "source": [
        "**Exercise 7**: Write a Python program using Scikit-learn to split the iris dataset into 80% train data and 20% test data. Out of total 150 records, the training set will contain 120 records and the test set contains 30 of those records. Train or fit the data into the model and using the K Nearest Neighbor Algorithm and create a plot to present the performance for different values of k. "
      ]
    },
    {
      "cell_type": "code",
      "metadata": {
        "id": "dUPeJKkq97Q6",
        "colab_type": "code",
        "outputId": "b8edeeb4-e61f-4f6f-b700-4ad6f8344ac2",
        "colab": {
          "base_uri": "https://localhost:8080/",
          "height": 473
        }
      },
      "source": [
        "# Exercise 7 solution\n",
        "\n",
        "X = iris.iloc[:, :-1].values\n",
        "y = iris.iloc[:, 4].values\n",
        "#Split arrays or matrices into train and test subsets\n",
        "X_train, X_test, y_train, y_test = train_test_split(X, y, test_size=0.20) \n",
        "knn = KNeighborsClassifier(n_neighbors=7)  \n",
        "knn.fit(X_train, y_train)   \n",
        "a_index=list(range(1,11))\n",
        "a=pd.Series()\n",
        "# Calculate the accuracy of the model for different values of k\n",
        "for i in np.arange(1, 10):\n",
        "    knn2 = KNeighborsClassifier(n_neighbors=i)\n",
        "    knn2.fit(X_train, y_train)\n",
        "    print(\"For k = %d accuracy is\"%i,knn2.score(X_test,y_test))\n",
        "# Visual presentation: Various values of n for K-Nearest nerighbours\n",
        "print(\"\\nVisual presentation: Various values of n for K-Nearest nerighbours:\")    \n",
        "for i in list(range(1,11)):\n",
        "    model=KNeighborsClassifier(n_neighbors=i) \n",
        "    model.fit(X_train,y_train)\n",
        "    prediction=model.predict(X_test)\n",
        "    a=a.append(pd.Series(metrics.accuracy_score(prediction,y_test)))\n",
        "plt.plot(a_index, a)"
      ],
      "execution_count": 0,
      "outputs": [
        {
          "output_type": "stream",
          "text": [
            "For k = 1 accuracy is 0.9333333333333333\n",
            "For k = 2 accuracy is 0.9\n",
            "For k = 3 accuracy is 0.9666666666666667\n",
            "For k = 4 accuracy is 0.9666666666666667\n",
            "For k = 5 accuracy is 0.9666666666666667\n",
            "For k = 6 accuracy is 0.9666666666666667\n",
            "For k = 7 accuracy is 0.9666666666666667\n",
            "For k = 8 accuracy is 0.9666666666666667\n",
            "For k = 9 accuracy is 0.9666666666666667\n",
            "\n",
            "Visual presentation: Various values of n for K-Nearest nerighbours:\n"
          ],
          "name": "stdout"
        },
        {
          "output_type": "execute_result",
          "data": {
            "text/plain": [
              "[<matplotlib.lines.Line2D at 0x7feffe046ba8>]"
            ]
          },
          "metadata": {
            "tags": []
          },
          "execution_count": 27
        },
        {
          "output_type": "display_data",
          "data": {
            "image/png": "[encoded data removed]",
            "text/plain": [
              "<Figure size 432x288 with 1 Axes>"
            ]
          },
          "metadata": {
            "tags": []
          }
        }
      ]
    },
    {
      "cell_type": "markdown",
      "metadata": {
        "id": "g_0i-iukCYk2",
        "colab_type": "text"
      },
      "source": [
        "Exercises related to Logistic regression"
      ]
    },
    {
      "cell_type": "markdown",
      "metadata": {
        "id": "B1NmDUmCCdb9",
        "colab_type": "text"
      },
      "source": [
        "**Exercise 8**: Write a Python program to view some basic statistical details like percentile, mean, std etc. of the species of 'Iris-setosa', 'Iris-versicolor' and 'Iris-versicolor'"
      ]
    },
    {
      "cell_type": "code",
      "metadata": {
        "id": "gtakiBdMCgzr",
        "colab_type": "code",
        "outputId": "635266cf-0702-4a99-c85f-d5245648c907",
        "colab": {
          "base_uri": "https://localhost:8080/",
          "height": 561
        }
      },
      "source": [
        "print('Iris-setosa')\n",
        "setosa = iris['species'] == 'setosa'\n",
        "print(iris[setosa].describe())\n",
        "print('\\n Iris-versicolor')\n",
        "setosa = iris['species'] == 'versicolor'\n",
        "print(iris[setosa].describe())\n",
        "print('\\n Iris-virginica')\n",
        "setosa = iris['species'] == 'virginica'\n",
        "print(iris[setosa].describe())"
      ],
      "execution_count": 0,
      "outputs": [
        {
          "output_type": "stream",
          "text": [
            "Iris-setosa\n",
            "       sepal_length  sepal_width  petal_length  petal_width\n",
            "count      50.00000    50.000000     50.000000    50.000000\n",
            "mean        5.00600     3.428000      1.462000     0.246000\n",
            "std         0.35249     0.379064      0.173664     0.105386\n",
            "min         4.30000     2.300000      1.000000     0.100000\n",
            "25%         4.80000     3.200000      1.400000     0.200000\n",
            "50%         5.00000     3.400000      1.500000     0.200000\n",
            "75%         5.20000     3.675000      1.575000     0.300000\n",
            "max         5.80000     4.400000      1.900000     0.600000\n",
            "\n",
            " Iris-versicolor\n",
            "       sepal_length  sepal_width  petal_length  petal_width\n",
            "count     50.000000    50.000000     50.000000    50.000000\n",
            "mean       5.936000     2.770000      4.260000     1.326000\n",
            "std        0.516171     0.313798      0.469911     0.197753\n",
            "min        4.900000     2.000000      3.000000     1.000000\n",
            "25%        5.600000     2.525000      4.000000     1.200000\n",
            "50%        5.900000     2.800000      4.350000     1.300000\n",
            "75%        6.300000     3.000000      4.600000     1.500000\n",
            "max        7.000000     3.400000      5.100000     1.800000\n",
            "\n",
            " Iris-virginica\n",
            "       sepal_length  sepal_width  petal_length  petal_width\n",
            "count      50.00000    50.000000     50.000000     50.00000\n",
            "mean        6.58800     2.974000      5.552000      2.02600\n",
            "std         0.63588     0.322497      0.551895      0.27465\n",
            "min         4.90000     2.200000      4.500000      1.40000\n",
            "25%         6.22500     2.800000      5.100000      1.80000\n",
            "50%         6.50000     3.000000      5.550000      2.00000\n",
            "75%         6.90000     3.175000      5.875000      2.30000\n",
            "max         7.90000     3.800000      6.900000      2.50000\n"
          ],
          "name": "stdout"
        }
      ]
    },
    {
      "cell_type": "markdown",
      "metadata": {
        "id": "of7i7MI1DaYX",
        "colab_type": "text"
      },
      "source": [
        "**Exercise 9**: Write a Python program to create a scatter plot using sepal length and petal_width to separate the Species classes."
      ]
    },
    {
      "cell_type": "code",
      "metadata": {
        "id": "r7YTNAB7Dq7C",
        "colab_type": "code",
        "outputId": "8ce96cca-a04e-43af-a1b4-6c6accf346f5",
        "colab": {
          "base_uri": "https://localhost:8080/",
          "height": 279
        }
      },
      "source": [
        "# Exercise 9 solution\n",
        "\n",
        "#Convert Species columns in a numerical column of the iris dataframe\n",
        "#creating labelEncoder\n",
        "le = preprocessing.LabelEncoder()\n",
        "# Converting string labels into numbers.\n",
        "iris.species = le.fit_transform(iris.species)\n",
        "x = iris.iloc[:, :-1].values\n",
        "y = iris.iloc[:, 4].values\n",
        "plt.scatter(x[:,0], x[:, 3], c=y, cmap ='flag')\n",
        "plt.xlabel('Sepal Length cm')\n",
        "plt.ylabel('Petal Width cm')\n",
        "plt.show()"
      ],
      "execution_count": 0,
      "outputs": [
        {
          "output_type": "display_data",
          "data": {
            "image/png": "[encoded data removed]",
            "text/plain": [
              "<Figure size 432x288 with 1 Axes>"
            ]
          },
          "metadata": {
            "tags": []
          }
        }
      ]
    },
    {
      "cell_type": "markdown",
      "metadata": {
        "id": "JBLtOFyvD1Qz",
        "colab_type": "text"
      },
      "source": [
        "**Exercise 10**: Write a Python program to get the accuracy of the Logistic Regression."
      ]
    },
    {
      "cell_type": "code",
      "metadata": {
        "id": "BhOSN5LHD1vC",
        "colab_type": "code",
        "outputId": "fbfdc04d-3efb-4e7e-e56e-dd57ba33ed46",
        "colab": {
          "base_uri": "https://localhost:8080/",
          "height": 170
        }
      },
      "source": [
        "X = iris.iloc[:, :-1].values\n",
        "y = iris.iloc[:, 4].values\n",
        "\n",
        "#Split arrays or matrices into train and test subsets\n",
        "X_train, X_test, y_train, y_test = train_test_split(X, y, test_size=0.40) \n",
        "\n",
        "model = LogisticRegression(random_state=0, solver='lbfgs',multi_class='multinomial').fit(X, y)\n",
        "model.fit(X_train,y_train)\n",
        "prediction=model.predict(X_test)\n",
        "print('The accuracy of the Logistic Regression is', metrics.accuracy_score(prediction,y_test))"
      ],
      "execution_count": 0,
      "outputs": [
        {
          "output_type": "stream",
          "text": [
            "The accuracy of the Logistic Regression is 0.9333333333333333\n"
          ],
          "name": "stdout"
        },
        {
          "output_type": "stream",
          "text": [
            "/usr/local/lib/python3.6/dist-packages/sklearn/linear_model/_logistic.py:940: ConvergenceWarning: lbfgs failed to converge (status=1):\n",
            "STOP: TOTAL NO. of ITERATIONS REACHED LIMIT.\n",
            "\n",
            "Increase the number of iterations (max_iter) or scale the data as shown in:\n",
            "    https://scikit-learn.org/stable/modules/preprocessing.html\n",
            "Please also refer to the documentation for alternative solver options:\n",
            "    https://scikit-learn.org/stable/modules/linear_model.html#logistic-regression\n",
            "  extra_warning_msg=_LOGISTIC_SOLVER_CONVERGENCE_MSG)\n"
          ],
          "name": "stderr"
        }
      ]
    },
    {
      "cell_type": "markdown",
      "metadata": {
        "id": "K-CKMgDlEjbQ",
        "colab_type": "text"
      },
      "source": [
        "**Exercise 11**: Apply Linear regression on Iris dataset"
      ]
    },
    {
      "cell_type": "code",
      "metadata": {
        "id": "uVdLjMmzEjum",
        "colab_type": "code",
        "colab": {}
      },
      "source": [
        ""
      ],
      "execution_count": 0,
      "outputs": []
    },
    {
      "cell_type": "markdown",
      "metadata": {
        "id": "ez8MOaYfExBS",
        "colab_type": "text"
      },
      "source": [
        "**Exercise 12**: Apply SVM on Iris dataset"
      ]
    },
    {
      "cell_type": "code",
      "metadata": {
        "id": "JZrmYgQZExTF",
        "colab_type": "code",
        "colab": {}
      },
      "source": [
        ""
      ],
      "execution_count": 0,
      "outputs": []
    },
    {
      "cell_type": "markdown",
      "metadata": {
        "id": "BnLj_xvwEkAm",
        "colab_type": "text"
      },
      "source": [
        "**Exercise 13**: Apply Naive Bayes on Iris dataset"
      ]
    },
    {
      "cell_type": "code",
      "metadata": {
        "id": "-WZoyPPFEkOs",
        "colab_type": "code",
        "colab": {}
      },
      "source": [
        ""
      ],
      "execution_count": 0,
      "outputs": []
    },
    {
      "cell_type": "markdown",
      "metadata": {
        "id": "DOxQ1XvzFASj",
        "colab_type": "text"
      },
      "source": [
        "**Exercise 14**: Apply PCA on Iris dataset"
      ]
    },
    {
      "cell_type": "code",
      "metadata": {
        "id": "5Bl8n_IHFAiI",
        "colab_type": "code",
        "colab": {}
      },
      "source": [
        ""
      ],
      "execution_count": 0,
      "outputs": []
    },
    {
      "cell_type": "markdown",
      "metadata": {
        "id": "2zxZQ2qLFLmX",
        "colab_type": "text"
      },
      "source": [
        "**Exercise 15**: Apply K-means on Iris dataset"
      ]
    },
    {
      "cell_type": "code",
      "metadata": {
        "id": "niHUEhQEFL6M",
        "colab_type": "code",
        "colab": {}
      },
      "source": [
        ""
      ],
      "execution_count": 0,
      "outputs": []
    },
    {
      "cell_type": "markdown",
      "metadata": {
        "id": "gEos6YOPF1ii",
        "colab_type": "text"
      },
      "source": [
        "**Exercise 16**: Apply Decision tree on Iris dataset"
      ]
    },
    {
      "cell_type": "code",
      "metadata": {
        "id": "xkwy7SXxF14f",
        "colab_type": "code",
        "colab": {}
      },
      "source": [
        ""
      ],
      "execution_count": 0,
      "outputs": []
    },
    {
      "cell_type": "markdown",
      "metadata": {
        "id": "JYJ1t8ThGEzi",
        "colab_type": "text"
      },
      "source": [
        "**Exercise 17**: Apply Random forest on Iris dataset"
      ]
    },
    {
      "cell_type": "code",
      "metadata": {
        "id": "UdHCMCkWGFRE",
        "colab_type": "code",
        "colab": {}
      },
      "source": [
        ""
      ],
      "execution_count": 0,
      "outputs": []
    },
    {
      "cell_type": "markdown",
      "metadata": {
        "id": "adEdq-ISF2HM",
        "colab_type": "text"
      },
      "source": [
        "**Exercise 18**: Apply Gradient boosting on Iris dataset"
      ]
    },
    {
      "cell_type": "code",
      "metadata": {
        "id": "wIg7R3U0F2Wy",
        "colab_type": "code",
        "colab": {}
      },
      "source": [
        ""
      ],
      "execution_count": 0,
      "outputs": []
    },
    {
      "cell_type": "markdown",
      "metadata": {
        "id": "5veFAeTqGR1S",
        "colab_type": "text"
      },
      "source": [
        "**Exercise 19**: Apply XGBoost on Iris dataset"
      ]
    },
    {
      "cell_type": "code",
      "metadata": {
        "id": "-aMWDQ1OGSEa",
        "colab_type": "code",
        "colab": {}
      },
      "source": [
        ""
      ],
      "execution_count": 0,
      "outputs": []
    },
    {
      "cell_type": "markdown",
      "metadata": {
        "id": "JOpQ9jS4FSSb",
        "colab_type": "text"
      },
      "source": [
        "**Exercise 20**: Find accuracy score for all the algorithms (Linear regression, Logistic regression, SVM, Decision tree etc..,) mentioned above and compare them"
      ]
    },
    {
      "cell_type": "code",
      "metadata": {
        "id": "JsVW5fFXFSi3",
        "colab_type": "code",
        "colab": {}
      },
      "source": [
        ""
      ],
      "execution_count": 0,
      "outputs": []
    },
    {
      "cell_type": "markdown",
      "metadata": {
        "id": "GEtjRR0HGrQK",
        "colab_type": "text"
      },
      "source": [
        "**Exercise 21**: Find classification report score for all the algorithms (Linear regression, Logistic regression, SVM, Decision tree etc..,) mentioned above and compare them"
      ]
    },
    {
      "cell_type": "code",
      "metadata": {
        "id": "eMsbRQzEGrib",
        "colab_type": "code",
        "colab": {}
      },
      "source": [
        ""
      ],
      "execution_count": 0,
      "outputs": []
    },
    {
      "cell_type": "markdown",
      "metadata": {
        "id": "TZjTzfrvGxaW",
        "colab_type": "text"
      },
      "source": [
        "**Exercise 22**: Find confusion matrix for all the classification algorithms (Logistic regression, SVM, Decision tree etc..,) mentioned above and compare them"
      ]
    },
    {
      "cell_type": "code",
      "metadata": {
        "id": "vSqSlwhyGx1X",
        "colab_type": "code",
        "colab": {}
      },
      "source": [
        ""
      ],
      "execution_count": 0,
      "outputs": []
    },
    {
      "cell_type": "markdown",
      "metadata": {
        "id": "UunHMvUOHEli",
        "colab_type": "text"
      },
      "source": [
        "**Exercise 23**: Find MSE - mean squared error and MAE - mean absolute error, R2 score for the regression algorithms (Linear regression, Random forest etc..,) mentioned above and compare them"
      ]
    },
    {
      "cell_type": "code",
      "metadata": {
        "id": "cFSDqTKVHFCN",
        "colab_type": "code",
        "colab": {}
      },
      "source": [
        ""
      ],
      "execution_count": 0,
      "outputs": []
    },
    {
      "cell_type": "markdown",
      "metadata": {
        "id": "odijdXmgHyBg",
        "colab_type": "text"
      },
      "source": [
        "**Exercise 24**: Find adjusted rand index for all the algorithms"
      ]
    },
    {
      "cell_type": "code",
      "metadata": {
        "id": "rKBqUEH3Hz5I",
        "colab_type": "code",
        "colab": {}
      },
      "source": [
        ""
      ],
      "execution_count": 0,
      "outputs": []
    },
    {
      "cell_type": "markdown",
      "metadata": {
        "id": "yQ3s7BQWH0Rk",
        "colab_type": "text"
      },
      "source": [
        "**Exercise 25**: Find Homogenity for all the algorithms"
      ]
    },
    {
      "cell_type": "code",
      "metadata": {
        "id": "sdTCgCMnH0kM",
        "colab_type": "code",
        "colab": {}
      },
      "source": [
        ""
      ],
      "execution_count": 0,
      "outputs": []
    },
    {
      "cell_type": "markdown",
      "metadata": {
        "id": "Qgum_VYPIJbH",
        "colab_type": "text"
      },
      "source": [
        "**Exercise 26**: Find V-measure for all the algorithms"
      ]
    },
    {
      "cell_type": "code",
      "metadata": {
        "id": "KsmMT3mhIJzw",
        "colab_type": "code",
        "colab": {}
      },
      "source": [
        ""
      ],
      "execution_count": 0,
      "outputs": []
    },
    {
      "cell_type": "markdown",
      "metadata": {
        "id": "CIOcYyqLIQz5",
        "colab_type": "text"
      },
      "source": [
        "**Exercise 27**: Try to apply data normalization and data standardization for Iris dataset"
      ]
    },
    {
      "cell_type": "code",
      "metadata": {
        "id": "O6LhOCKpIRE3",
        "colab_type": "code",
        "colab": {}
      },
      "source": [
        ""
      ],
      "execution_count": 0,
      "outputs": []
    },
    {
      "cell_type": "markdown",
      "metadata": {
        "id": "X6lGZWuJIeZX",
        "colab_type": "text"
      },
      "source": [
        "**Exercise 28**: Try to apply L1 & L2 regularization for Iris dataset"
      ]
    },
    {
      "cell_type": "code",
      "metadata": {
        "id": "0tDV0g5LIesa",
        "colab_type": "code",
        "colab": {}
      },
      "source": [
        ""
      ],
      "execution_count": 0,
      "outputs": []
    },
    {
      "cell_type": "markdown",
      "metadata": {
        "id": "3uf1qLkbImT_",
        "colab_type": "text"
      },
      "source": [
        "**Exercise 29**: Try to find Precision and Recall for Iris dataset for different algorithms"
      ]
    },
    {
      "cell_type": "code",
      "metadata": {
        "id": "f5wNMs-FImmR",
        "colab_type": "code",
        "colab": {}
      },
      "source": [
        ""
      ],
      "execution_count": 0,
      "outputs": []
    },
    {
      "cell_type": "markdown",
      "metadata": {
        "id": "vg21Igf7I3cu",
        "colab_type": "text"
      },
      "source": [
        "**Exercise 30**: Try to find AUC for Iris dataset for different algorithms"
      ]
    },
    {
      "cell_type": "code",
      "metadata": {
        "id": "X_m79C2GI3u8",
        "colab_type": "code",
        "colab": {}
      },
      "source": [
        ""
      ],
      "execution_count": 0,
      "outputs": []
    },
    {
      "cell_type": "markdown",
      "metadata": {
        "id": "_PBmgg4xI-7J",
        "colab_type": "text"
      },
      "source": [
        "**Exercise 31**: Try to find cost sensitive accuracy for Iris dataset for different algorithms"
      ]
    },
    {
      "cell_type": "code",
      "metadata": {
        "id": "wg-LMhLbI_K1",
        "colab_type": "code",
        "colab": {}
      },
      "source": [
        ""
      ],
      "execution_count": 0,
      "outputs": []
    },
    {
      "cell_type": "markdown",
      "metadata": {
        "id": "B19PNFzuJJj0",
        "colab_type": "text"
      },
      "source": [
        "**Exercise 32**: Apply grid search for Iris dataset"
      ]
    },
    {
      "cell_type": "code",
      "metadata": {
        "id": "o1Eed07RJJ2X",
        "colab_type": "code",
        "colab": {}
      },
      "source": [
        ""
      ],
      "execution_count": 0,
      "outputs": []
    },
    {
      "cell_type": "markdown",
      "metadata": {
        "id": "coei0WqxJSuQ",
        "colab_type": "text"
      },
      "source": [
        "**Exercise 33**: Apply random search for Iris dataset"
      ]
    },
    {
      "cell_type": "code",
      "metadata": {
        "id": "IWWK5pArJTfk",
        "colab_type": "code",
        "colab": {}
      },
      "source": [
        ""
      ],
      "execution_count": 0,
      "outputs": []
    },
    {
      "cell_type": "markdown",
      "metadata": {
        "id": "gibSQpoHJckn",
        "colab_type": "text"
      },
      "source": [
        "**Exercise 34**: Apply model tuning Bayesian techniques for Iris dataset"
      ]
    },
    {
      "cell_type": "code",
      "metadata": {
        "id": "lXY7grqBJc8g",
        "colab_type": "code",
        "colab": {}
      },
      "source": [
        ""
      ],
      "execution_count": 0,
      "outputs": []
    },
    {
      "cell_type": "markdown",
      "metadata": {
        "id": "mMHYfxFLfxUK",
        "colab_type": "text"
      },
      "source": [
        "# References\n",
        "https://www.w3resource.com/machine-learning/scikit-learn/iris/index.php"
      ]
    }
  ]
}